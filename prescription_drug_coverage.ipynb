{
 "cells": [
  {
   "cell_type": "code",
   "execution_count": 123,
   "metadata": {},
   "outputs": [],
   "source": [
    "import pandas as pd\n",
    "import numpy as np\n",
    "\n",
    "pd.set_option(\"display.precision\", 2)"
   ]
  },
  {
   "cell_type": "code",
   "execution_count": 124,
   "metadata": {},
   "outputs": [
    {
     "data": {
      "text/html": [
       "<div>\n",
       "<style scoped>\n",
       "    .dataframe tbody tr th:only-of-type {\n",
       "        vertical-align: middle;\n",
       "    }\n",
       "\n",
       "    .dataframe tbody tr th {\n",
       "        vertical-align: top;\n",
       "    }\n",
       "\n",
       "    .dataframe thead th {\n",
       "        text-align: right;\n",
       "    }\n",
       "</style>\n",
       "<table border=\"1\" class=\"dataframe\">\n",
       "  <thead>\n",
       "    <tr style=\"text-align: right;\">\n",
       "      <th></th>\n",
       "      <th>npi</th>\n",
       "      <th>nppes_provider_last_org_name</th>\n",
       "      <th>nppes_provider_first_name</th>\n",
       "      <th>nppes_provider_mi</th>\n",
       "      <th>nppes_credentials</th>\n",
       "      <th>nppes_provider_gender</th>\n",
       "      <th>nppes_entity_code</th>\n",
       "      <th>nppes_provider_street1</th>\n",
       "      <th>nppes_provider_street2</th>\n",
       "      <th>nppes_provider_city</th>\n",
       "      <th>...</th>\n",
       "      <th>beneficiary_male_count</th>\n",
       "      <th>beneficiary_race_white_count</th>\n",
       "      <th>beneficiary_race_black_count</th>\n",
       "      <th>beneficiary_race_asian_pi_count</th>\n",
       "      <th>beneficiary_race_hispanic_count</th>\n",
       "      <th>beneficiary_race_nat_ind_count</th>\n",
       "      <th>beneficiary_race_other_count</th>\n",
       "      <th>beneficiary_nondual_count</th>\n",
       "      <th>beneficiary_dual_count</th>\n",
       "      <th>beneficiary_average_risk_score</th>\n",
       "    </tr>\n",
       "  </thead>\n",
       "  <tbody>\n",
       "    <tr>\n",
       "      <td>839907</td>\n",
       "      <td>1720067093</td>\n",
       "      <td>SNOWDEN</td>\n",
       "      <td>JENNIFER</td>\n",
       "      <td>B</td>\n",
       "      <td>M.D.</td>\n",
       "      <td>F</td>\n",
       "      <td>I</td>\n",
       "      <td>1117 PERIMETER CTR</td>\n",
       "      <td>N404</td>\n",
       "      <td>ATLANTA</td>\n",
       "      <td>...</td>\n",
       "      <td>50.0</td>\n",
       "      <td>73.0</td>\n",
       "      <td>NaN</td>\n",
       "      <td>0.0</td>\n",
       "      <td>NaN</td>\n",
       "      <td>NaN</td>\n",
       "      <td>0.0</td>\n",
       "      <td>26.0</td>\n",
       "      <td>96.0</td>\n",
       "      <td>1.54</td>\n",
       "    </tr>\n",
       "    <tr>\n",
       "      <td>81514</td>\n",
       "      <td>1073044574</td>\n",
       "      <td>PITLICK</td>\n",
       "      <td>MITCHELL</td>\n",
       "      <td>NaN</td>\n",
       "      <td>NaN</td>\n",
       "      <td>M</td>\n",
       "      <td>I</td>\n",
       "      <td>200 1ST ST SW</td>\n",
       "      <td>NaN</td>\n",
       "      <td>ROCHESTER</td>\n",
       "      <td>...</td>\n",
       "      <td>NaN</td>\n",
       "      <td>NaN</td>\n",
       "      <td>NaN</td>\n",
       "      <td>0.0</td>\n",
       "      <td>0.0</td>\n",
       "      <td>0.0</td>\n",
       "      <td>NaN</td>\n",
       "      <td>NaN</td>\n",
       "      <td>NaN</td>\n",
       "      <td>1.73</td>\n",
       "    </tr>\n",
       "    <tr>\n",
       "      <td>835095</td>\n",
       "      <td>1710942842</td>\n",
       "      <td>ARNESON</td>\n",
       "      <td>RICHARD</td>\n",
       "      <td>J</td>\n",
       "      <td>OD</td>\n",
       "      <td>M</td>\n",
       "      <td>I</td>\n",
       "      <td>2119 W 12TH ST</td>\n",
       "      <td>NaN</td>\n",
       "      <td>HASTINGS</td>\n",
       "      <td>...</td>\n",
       "      <td>NaN</td>\n",
       "      <td>NaN</td>\n",
       "      <td>NaN</td>\n",
       "      <td>NaN</td>\n",
       "      <td>NaN</td>\n",
       "      <td>NaN</td>\n",
       "      <td>NaN</td>\n",
       "      <td>NaN</td>\n",
       "      <td>NaN</td>\n",
       "      <td>NaN</td>\n",
       "    </tr>\n",
       "    <tr>\n",
       "      <td>158488</td>\n",
       "      <td>1134385651</td>\n",
       "      <td>DESENZE</td>\n",
       "      <td>PHILIP</td>\n",
       "      <td>S</td>\n",
       "      <td>NaN</td>\n",
       "      <td>M</td>\n",
       "      <td>I</td>\n",
       "      <td>540 E MCNAB RD</td>\n",
       "      <td>NaN</td>\n",
       "      <td>POMPANO BEACH</td>\n",
       "      <td>...</td>\n",
       "      <td>12.0</td>\n",
       "      <td>NaN</td>\n",
       "      <td>0.0</td>\n",
       "      <td>0.0</td>\n",
       "      <td>0.0</td>\n",
       "      <td>0.0</td>\n",
       "      <td>NaN</td>\n",
       "      <td>NaN</td>\n",
       "      <td>NaN</td>\n",
       "      <td>1.33</td>\n",
       "    </tr>\n",
       "    <tr>\n",
       "      <td>682961</td>\n",
       "      <td>1588774848</td>\n",
       "      <td>RISNER</td>\n",
       "      <td>DARRELL</td>\n",
       "      <td>H</td>\n",
       "      <td>DMD</td>\n",
       "      <td>M</td>\n",
       "      <td>I</td>\n",
       "      <td>8 DOGWOOD ST</td>\n",
       "      <td>NaN</td>\n",
       "      <td>HYDEN</td>\n",
       "      <td>...</td>\n",
       "      <td>31.0</td>\n",
       "      <td>55.0</td>\n",
       "      <td>0.0</td>\n",
       "      <td>0.0</td>\n",
       "      <td>0.0</td>\n",
       "      <td>0.0</td>\n",
       "      <td>0.0</td>\n",
       "      <td>37.0</td>\n",
       "      <td>18.0</td>\n",
       "      <td>1.15</td>\n",
       "    </tr>\n",
       "  </tbody>\n",
       "</table>\n",
       "<p>5 rows × 84 columns</p>\n",
       "</div>"
      ],
      "text/plain": [
       "               npi nppes_provider_last_org_name nppes_provider_first_name  \\\n",
       "839907  1720067093                      SNOWDEN                  JENNIFER   \n",
       "81514   1073044574                      PITLICK                  MITCHELL   \n",
       "835095  1710942842                      ARNESON                   RICHARD   \n",
       "158488  1134385651                      DESENZE                    PHILIP   \n",
       "682961  1588774848                       RISNER                   DARRELL   \n",
       "\n",
       "       nppes_provider_mi nppes_credentials nppes_provider_gender  \\\n",
       "839907                 B              M.D.                     F   \n",
       "81514                NaN               NaN                     M   \n",
       "835095                 J                OD                     M   \n",
       "158488                 S               NaN                     M   \n",
       "682961                 H               DMD                     M   \n",
       "\n",
       "       nppes_entity_code nppes_provider_street1 nppes_provider_street2  \\\n",
       "839907                 I     1117 PERIMETER CTR                   N404   \n",
       "81514                  I          200 1ST ST SW                    NaN   \n",
       "835095                 I         2119 W 12TH ST                    NaN   \n",
       "158488                 I         540 E MCNAB RD                    NaN   \n",
       "682961                 I           8 DOGWOOD ST                    NaN   \n",
       "\n",
       "       nppes_provider_city  ...  beneficiary_male_count  \\\n",
       "839907             ATLANTA  ...                    50.0   \n",
       "81514            ROCHESTER  ...                     NaN   \n",
       "835095            HASTINGS  ...                     NaN   \n",
       "158488       POMPANO BEACH  ...                    12.0   \n",
       "682961               HYDEN  ...                    31.0   \n",
       "\n",
       "        beneficiary_race_white_count beneficiary_race_black_count  \\\n",
       "839907                          73.0                          NaN   \n",
       "81514                            NaN                          NaN   \n",
       "835095                           NaN                          NaN   \n",
       "158488                           NaN                          0.0   \n",
       "682961                          55.0                          0.0   \n",
       "\n",
       "       beneficiary_race_asian_pi_count beneficiary_race_hispanic_count  \\\n",
       "839907                             0.0                             NaN   \n",
       "81514                              0.0                             0.0   \n",
       "835095                             NaN                             NaN   \n",
       "158488                             0.0                             0.0   \n",
       "682961                             0.0                             0.0   \n",
       "\n",
       "       beneficiary_race_nat_ind_count beneficiary_race_other_count  \\\n",
       "839907                            NaN                          0.0   \n",
       "81514                             0.0                          NaN   \n",
       "835095                            NaN                          NaN   \n",
       "158488                            0.0                          NaN   \n",
       "682961                            0.0                          0.0   \n",
       "\n",
       "        beneficiary_nondual_count  beneficiary_dual_count  \\\n",
       "839907                       26.0                    96.0   \n",
       "81514                         NaN                     NaN   \n",
       "835095                        NaN                     NaN   \n",
       "158488                        NaN                     NaN   \n",
       "682961                       37.0                    18.0   \n",
       "\n",
       "        beneficiary_average_risk_score  \n",
       "839907                            1.54  \n",
       "81514                             1.73  \n",
       "835095                             NaN  \n",
       "158488                            1.33  \n",
       "682961                            1.15  \n",
       "\n",
       "[5 rows x 84 columns]"
      ]
     },
     "execution_count": 124,
     "metadata": {},
     "output_type": "execute_result"
    }
   ],
   "source": [
    "df = pd.read_csv(\"PartD_Prescriber_PUF_NPI_17.txt\", sep='\\t')\n",
    "df.sample(5)"
   ]
  },
  {
   "cell_type": "code",
   "execution_count": 125,
   "metadata": {},
   "outputs": [
    {
     "name": "stdout",
     "output_type": "stream",
     "text": [
      "(1162898, 84)\n"
     ]
    }
   ],
   "source": [
    "print(df.shape)"
   ]
  },
  {
   "cell_type": "code",
   "execution_count": 132,
   "metadata": {},
   "outputs": [
    {
     "data": {
      "text/plain": [
       "1162898"
      ]
     },
     "execution_count": 132,
     "metadata": {},
     "output_type": "execute_result"
    }
   ],
   "source": [
    "len(pd.unique(df['npi']))"
   ]
  },
  {
   "cell_type": "markdown",
   "metadata": {},
   "source": [
    "**Question:**\n",
    "In 2017, what was the average number of beneficiaries per provider? Due to the suppression of data for those with few beneficiaries, we can only include those with more than 10 beneficiaries."
   ]
  },
  {
   "cell_type": "code",
   "execution_count": 127,
   "metadata": {},
   "outputs": [
    {
     "data": {
      "text/plain": [
       "192.62371485069525"
      ]
     },
     "execution_count": 127,
     "metadata": {},
     "output_type": "execute_result"
    }
   ],
   "source": [
    "total_beneficiaries = df['beneficiary_female_count'] + df['beneficiary_male_count']\n",
    "total_beneficiaries[total_beneficiaries > 10].mean()"
   ]
  },
  {
   "cell_type": "code",
   "execution_count": 128,
   "metadata": {},
   "outputs": [
    {
     "data": {
      "text/plain": [
       "0           677\n",
       "1          1946\n",
       "2            55\n",
       "3            18\n",
       "4            90\n",
       "           ... \n",
       "1162893     270\n",
       "1162894      59\n",
       "1162895      15\n",
       "1162896      81\n",
       "1162897     256\n",
       "Name: total_claim_count, Length: 1162898, dtype: int64"
      ]
     },
     "execution_count": 128,
     "metadata": {},
     "output_type": "execute_result"
    }
   ],
   "source": [
    "df['total_claim_count']"
   ]
  },
  {
   "cell_type": "code",
   "execution_count": 129,
   "metadata": {},
   "outputs": [
    {
     "data": {
      "text/plain": [
       "0          14788\n",
       "1          58605\n",
       "2            430\n",
       "3            150\n",
       "4           2681\n",
       "           ...  \n",
       "1162893     5566\n",
       "1162894     1866\n",
       "1162895      288\n",
       "1162896     1879\n",
       "1162897     7945\n",
       "Name: total_day_supply, Length: 1162898, dtype: int64"
      ]
     },
     "execution_count": 129,
     "metadata": {},
     "output_type": "execute_result"
    }
   ],
   "source": [
    "df['total_day_supply']"
   ]
  },
  {
   "cell_type": "markdown",
   "metadata": {},
   "source": [
    "**Question:**\n",
    "For each provider, estimate the length of the average prescription from the total_day_supply and total_claim_count. What is the median, in days, of the distribution of this value across all providers?"
   ]
  },
  {
   "cell_type": "code",
   "execution_count": 130,
   "metadata": {},
   "outputs": [
    {
     "data": {
      "text/plain": [
       "29.7125748502994"
      ]
     },
     "execution_count": 130,
     "metadata": {},
     "output_type": "execute_result"
    }
   ],
   "source": [
    "(df['total_day_supply'] / df['total_claim_count']).median()"
   ]
  },
  {
   "cell_type": "code",
   "execution_count": null,
   "metadata": {},
   "outputs": [],
   "source": [
    "df['specialty_description']"
   ]
  },
  {
   "cell_type": "markdown",
   "metadata": {},
   "source": [
    "**Question:** \n",
    "Work out for each Specialty the fraction of drug claims that are for brand-name drugs. Include only providers for whom the relevant information has not been suppressed, and consider only specialties with at least 1000 total claims. What is the standard deviation of these fractions?"
   ]
  },
  {
   "cell_type": "code",
   "execution_count": 133,
   "metadata": {},
   "outputs": [
    {
     "data": {
      "text/plain": [
       "0.041203014890554175"
      ]
     },
     "execution_count": 133,
     "metadata": {},
     "output_type": "execute_result"
    }
   ],
   "source": [
    "not_suppressed_providers = df[df['brand_claim_count'].notnull()]\n",
    "specialty_brand_claims = (not_suppressed_providers.groupby(['specialty_description']))[['brand_claim_count']].agg('sum')\n",
    "total_brand_claims = specialty_brand_claims['brand_claim_count'].sum()\n",
    "sbc_grtr_than_th = specialty_brand_claims[specialty_brand_claims['brand_claim_count'] > 1000]\n",
    "(sbc_grtr_than_th['brand_claim_count'] / total_brand_claims).std()\n"
   ]
  },
  {
   "cell_type": "markdown",
   "metadata": {},
   "source": [
    "**Question:**\n",
    "Find the ratio of beneficiaries with opioid prescriptions to beneficiaries with antibiotics prescriptions in each state. Assume that each beneficiary attends only a single provider. What is the difference between the largest and smallest ratios?"
   ]
  },
  {
   "cell_type": "code",
   "execution_count": 45,
   "metadata": {},
   "outputs": [
    {
     "data": {
      "text/plain": [
       "0.6331097230267027"
      ]
     },
     "execution_count": 45,
     "metadata": {},
     "output_type": "execute_result"
    }
   ],
   "source": [
    "state_opioid_bene_count = (df.groupby(['nppes_provider_state']))[['opioid_bene_count']].agg('sum')\n",
    "state_antibiotic_bene_count = (df.groupby(['nppes_provider_state']))[['antibiotic_bene_count']].agg('sum')\n",
    "max_ratio = (state_opioid_bene_count['opioid_bene_count'] / state_antibiotic_bene_count['antibiotic_bene_count']).max()\n",
    "min_ratio = (state_opioid_bene_count['opioid_bene_count'] / state_antibiotic_bene_count['antibiotic_bene_count']).min()\n",
    "\n",
    "max_ratio - min_ratio\n",
    "\n"
   ]
  },
  {
   "cell_type": "markdown",
   "metadata": {},
   "source": [
    "**Question:**\n",
    "For each provider where the relevant columns are not suppressed, work out the fraction of claims for beneficiaries age 65 and older, as well as the fraction of claims for beneficiaries with a low-income subsidy. What is the Pearson correlation coefficient between these values?"
   ]
  },
  {
   "cell_type": "code",
   "execution_count": 134,
   "metadata": {},
   "outputs": [
    {
     "data": {
      "text/plain": [
       "0.8067444425921829"
      ]
     },
     "execution_count": 134,
     "metadata": {},
     "output_type": "execute_result"
    }
   ],
   "source": [
    "unsuppressed_df = df[df['total_claim_count_ge65'].notnull()]\n",
    "unsuppressed_df = df[df['lis_claim_count'].notnull()]\n",
    "sum_ge65_claims = unsuppressed_df['total_claim_count_ge65'].sum()\n",
    "sum_lis_claims = unsuppressed_df['lis_claim_count'].sum()\n",
    "frac_ge65_claims = unsuppressed_df['total_claim_count_ge65'] / sum_ge65_claims\n",
    "frac_lis_claims = unsuppressed_df['lis_claim_count'] / sum_lis_claims\n",
    "frac_ge65_claims.corr(frac_lis_claims)"
   ]
  },
  {
   "cell_type": "markdown",
   "metadata": {},
   "source": [
    "**Question:**\n",
    "Let's find which states have surprisingly high supply of opioids, conditioned on specialty. Work out the average length of an opioid prescription for each provider. For each (state, specialty) pair with at least 100 providers, calculate the average of this value across all providers. Then find the ratio of this value to an equivalent quantity calculated from providers in each specialty across all states. What is the largest such ratio?"
   ]
  },
  {
   "cell_type": "code",
   "execution_count": 105,
   "metadata": {},
   "outputs": [
    {
     "data": {
      "text/plain": [
       "2.304597636251375"
      ]
     },
     "execution_count": 105,
     "metadata": {},
     "output_type": "execute_result"
    }
   ],
   "source": [
    "df['avg_length_op_pre'] = (df['opioid_day_supply'] / df['opioid_claim_count'])\n",
    "st_sp_atleast_hund_prvdrs = (df.groupby(['nppes_provider_state', 'specialty_description'])).filter(lambda x: len(x) >= 100)\n",
    "avg_length_op_pre_st_sp = st_sp_atleast_hund_prvdrs.groupby(['nppes_provider_state', 'specialty_description'])['avg_length_op_pre'].mean().reset_index()\n",
    "avg_length_op_pre_sp = df.groupby(['specialty_description'])['avg_length_op_pre'].mean().reset_index()\n",
    "max = 0\n",
    "for index, row in avg_length_op_pre_st_sp.iterrows():\n",
    "    ratio = row['avg_length_op_pre'] / (avg_length_op_pre_sp[avg_length_op_pre_sp['specialty_description'] == row['specialty_description']]['avg_length_op_pre'])\n",
    "    if ratio.iloc[0] > max:\n",
    "        max = ratio.iloc[0]\n",
    "max"
   ]
  },
  {
   "cell_type": "code",
   "execution_count": 107,
   "metadata": {},
   "outputs": [
    {
     "data": {
      "text/html": [
       "<div>\n",
       "<style scoped>\n",
       "    .dataframe tbody tr th:only-of-type {\n",
       "        vertical-align: middle;\n",
       "    }\n",
       "\n",
       "    .dataframe tbody tr th {\n",
       "        vertical-align: top;\n",
       "    }\n",
       "\n",
       "    .dataframe thead th {\n",
       "        text-align: right;\n",
       "    }\n",
       "</style>\n",
       "<table border=\"1\" class=\"dataframe\">\n",
       "  <thead>\n",
       "    <tr style=\"text-align: right;\">\n",
       "      <th></th>\n",
       "      <th>npi</th>\n",
       "      <th>nppes_provider_last_org_name</th>\n",
       "      <th>nppes_provider_first_name</th>\n",
       "      <th>nppes_provider_mi</th>\n",
       "      <th>nppes_credentials</th>\n",
       "      <th>nppes_provider_gender</th>\n",
       "      <th>nppes_entity_code</th>\n",
       "      <th>nppes_provider_street1</th>\n",
       "      <th>nppes_provider_street2</th>\n",
       "      <th>nppes_provider_city</th>\n",
       "      <th>...</th>\n",
       "      <th>beneficiary_male_count</th>\n",
       "      <th>beneficiary_race_white_count</th>\n",
       "      <th>beneficiary_race_black_count</th>\n",
       "      <th>beneficiary_race_asian_pi_count</th>\n",
       "      <th>beneficiary_race_hispanic_count</th>\n",
       "      <th>beneficiary_race_nat_ind_count</th>\n",
       "      <th>beneficiary_race_other_count</th>\n",
       "      <th>beneficiary_nondual_count</th>\n",
       "      <th>beneficiary_dual_count</th>\n",
       "      <th>beneficiary_average_risk_score</th>\n",
       "    </tr>\n",
       "  </thead>\n",
       "  <tbody>\n",
       "    <tr>\n",
       "      <td>971355</td>\n",
       "      <td>1851699060</td>\n",
       "      <td>COOLEY</td>\n",
       "      <td>ALISHA</td>\n",
       "      <td>J</td>\n",
       "      <td>APRN</td>\n",
       "      <td>F</td>\n",
       "      <td>I</td>\n",
       "      <td>56 TOWER CIR</td>\n",
       "      <td>NaN</td>\n",
       "      <td>SOMERSET</td>\n",
       "      <td>...</td>\n",
       "      <td>197.0</td>\n",
       "      <td>NaN</td>\n",
       "      <td>NaN</td>\n",
       "      <td>0.0</td>\n",
       "      <td>NaN</td>\n",
       "      <td>0.0</td>\n",
       "      <td>NaN</td>\n",
       "      <td>357.0</td>\n",
       "      <td>174.0</td>\n",
       "      <td>1.13</td>\n",
       "    </tr>\n",
       "    <tr>\n",
       "      <td>550338</td>\n",
       "      <td>1487739298</td>\n",
       "      <td>MAYER</td>\n",
       "      <td>CHARLES</td>\n",
       "      <td>J</td>\n",
       "      <td>NaN</td>\n",
       "      <td>M</td>\n",
       "      <td>I</td>\n",
       "      <td>UNIVERSITY OF WASHINGTON MEDICAL CTR</td>\n",
       "      <td>1959 NE PACIFIC ST</td>\n",
       "      <td>SEATTLE</td>\n",
       "      <td>...</td>\n",
       "      <td>121.0</td>\n",
       "      <td>163.0</td>\n",
       "      <td>NaN</td>\n",
       "      <td>17.0</td>\n",
       "      <td>NaN</td>\n",
       "      <td>NaN</td>\n",
       "      <td>NaN</td>\n",
       "      <td>189.0</td>\n",
       "      <td>12.0</td>\n",
       "      <td>0.80</td>\n",
       "    </tr>\n",
       "    <tr>\n",
       "      <td>1051136</td>\n",
       "      <td>1922456870</td>\n",
       "      <td>LUFTIG</td>\n",
       "      <td>DANIEL</td>\n",
       "      <td>NaN</td>\n",
       "      <td>MD</td>\n",
       "      <td>M</td>\n",
       "      <td>I</td>\n",
       "      <td>777 N RAYMOND ST</td>\n",
       "      <td>NaN</td>\n",
       "      <td>BOISE</td>\n",
       "      <td>...</td>\n",
       "      <td>NaN</td>\n",
       "      <td>NaN</td>\n",
       "      <td>NaN</td>\n",
       "      <td>NaN</td>\n",
       "      <td>NaN</td>\n",
       "      <td>NaN</td>\n",
       "      <td>NaN</td>\n",
       "      <td>NaN</td>\n",
       "      <td>NaN</td>\n",
       "      <td>NaN</td>\n",
       "    </tr>\n",
       "    <tr>\n",
       "      <td>695439</td>\n",
       "      <td>1619248325</td>\n",
       "      <td>FREUND</td>\n",
       "      <td>KELLY</td>\n",
       "      <td>D</td>\n",
       "      <td>PA-C</td>\n",
       "      <td>F</td>\n",
       "      <td>I</td>\n",
       "      <td>1901 N MAIZE RD</td>\n",
       "      <td>NaN</td>\n",
       "      <td>WICHITA</td>\n",
       "      <td>...</td>\n",
       "      <td>70.0</td>\n",
       "      <td>NaN</td>\n",
       "      <td>NaN</td>\n",
       "      <td>0.0</td>\n",
       "      <td>NaN</td>\n",
       "      <td>0.0</td>\n",
       "      <td>NaN</td>\n",
       "      <td>155.0</td>\n",
       "      <td>23.0</td>\n",
       "      <td>1.01</td>\n",
       "    </tr>\n",
       "    <tr>\n",
       "      <td>590804</td>\n",
       "      <td>1528041381</td>\n",
       "      <td>MOORE</td>\n",
       "      <td>BRANDI</td>\n",
       "      <td>N</td>\n",
       "      <td>PA</td>\n",
       "      <td>F</td>\n",
       "      <td>I</td>\n",
       "      <td>199 HOSPITAL DR</td>\n",
       "      <td>SUITE 5</td>\n",
       "      <td>GALAX</td>\n",
       "      <td>...</td>\n",
       "      <td>117.0</td>\n",
       "      <td>280.0</td>\n",
       "      <td>NaN</td>\n",
       "      <td>NaN</td>\n",
       "      <td>NaN</td>\n",
       "      <td>0.0</td>\n",
       "      <td>NaN</td>\n",
       "      <td>192.0</td>\n",
       "      <td>103.0</td>\n",
       "      <td>1.18</td>\n",
       "    </tr>\n",
       "  </tbody>\n",
       "</table>\n",
       "<p>5 rows × 84 columns</p>\n",
       "</div>"
      ],
      "text/plain": [
       "                npi nppes_provider_last_org_name nppes_provider_first_name  \\\n",
       "971355   1851699060                       COOLEY                    ALISHA   \n",
       "550338   1487739298                        MAYER                   CHARLES   \n",
       "1051136  1922456870                       LUFTIG                    DANIEL   \n",
       "695439   1619248325                       FREUND                     KELLY   \n",
       "590804   1528041381                        MOORE                    BRANDI   \n",
       "\n",
       "        nppes_provider_mi nppes_credentials nppes_provider_gender  \\\n",
       "971355                  J              APRN                     F   \n",
       "550338                  J               NaN                     M   \n",
       "1051136               NaN                MD                     M   \n",
       "695439                  D              PA-C                     F   \n",
       "590804                  N                PA                     F   \n",
       "\n",
       "        nppes_entity_code                nppes_provider_street1  \\\n",
       "971355                  I                          56 TOWER CIR   \n",
       "550338                  I  UNIVERSITY OF WASHINGTON MEDICAL CTR   \n",
       "1051136                 I                      777 N RAYMOND ST   \n",
       "695439                  I                       1901 N MAIZE RD   \n",
       "590804                  I                       199 HOSPITAL DR   \n",
       "\n",
       "        nppes_provider_street2 nppes_provider_city  ...  \\\n",
       "971355                     NaN            SOMERSET  ...   \n",
       "550338      1959 NE PACIFIC ST             SEATTLE  ...   \n",
       "1051136                    NaN               BOISE  ...   \n",
       "695439                     NaN             WICHITA  ...   \n",
       "590804                 SUITE 5               GALAX  ...   \n",
       "\n",
       "         beneficiary_male_count  beneficiary_race_white_count  \\\n",
       "971355                    197.0                           NaN   \n",
       "550338                    121.0                         163.0   \n",
       "1051136                     NaN                           NaN   \n",
       "695439                     70.0                           NaN   \n",
       "590804                    117.0                         280.0   \n",
       "\n",
       "        beneficiary_race_black_count beneficiary_race_asian_pi_count  \\\n",
       "971355                           NaN                             0.0   \n",
       "550338                           NaN                            17.0   \n",
       "1051136                          NaN                             NaN   \n",
       "695439                           NaN                             0.0   \n",
       "590804                           NaN                             NaN   \n",
       "\n",
       "        beneficiary_race_hispanic_count beneficiary_race_nat_ind_count  \\\n",
       "971355                              NaN                            0.0   \n",
       "550338                              NaN                            NaN   \n",
       "1051136                             NaN                            NaN   \n",
       "695439                              NaN                            0.0   \n",
       "590804                              NaN                            0.0   \n",
       "\n",
       "        beneficiary_race_other_count  beneficiary_nondual_count  \\\n",
       "971355                           NaN                      357.0   \n",
       "550338                           NaN                      189.0   \n",
       "1051136                          NaN                        NaN   \n",
       "695439                           NaN                      155.0   \n",
       "590804                           NaN                      192.0   \n",
       "\n",
       "         beneficiary_dual_count  beneficiary_average_risk_score  \n",
       "971355                    174.0                            1.13  \n",
       "550338                     12.0                            0.80  \n",
       "1051136                     NaN                             NaN  \n",
       "695439                     23.0                            1.01  \n",
       "590804                    103.0                            1.18  \n",
       "\n",
       "[5 rows x 84 columns]"
      ]
     },
     "execution_count": 107,
     "metadata": {},
     "output_type": "execute_result"
    }
   ],
   "source": [
    "df16 = pd.read_csv(\"PartD_Prescriber_PUF_NPI_16.txt\", sep='\\t')\n",
    "df16.sample(5)"
   ]
  },
  {
   "cell_type": "markdown",
   "metadata": {},
   "source": [
    "**Question:**\n",
    "For each provider for whom the information is not suppressed, figure out the average cost per day of prescriptions in both 2016 and 2017. Use this to estimate the inflation rate for daily prescription costs per provider. What is the average inflation rate across all providers?"
   ]
  },
  {
   "cell_type": "code",
   "execution_count": 141,
   "metadata": {},
   "outputs": [
    {
     "data": {
      "text/plain": [
       "0.029856522335159293"
      ]
     },
     "execution_count": 141,
     "metadata": {},
     "output_type": "execute_result"
    }
   ],
   "source": [
    "df17 = df\n",
    "cost_mean_17 = df17[df17['total_drug_cost'].notnull()]['total_drug_cost'].mean()\n",
    "cost_mean_16 = df16[df16['total_drug_cost'].notnull()]['total_drug_cost'].mean()\n",
    "inflation_rate = ((cost_mean_17 - cost_mean_16) / cost_mean_17)\n",
    "inflation_rate"
   ]
  },
  {
   "cell_type": "markdown",
   "metadata": {},
   "source": [
    "**Question:**\n",
    "Consider all providers with a defined specialty in both years. Find the fraction of providers who left each specialty between 2016 and 2017. What is the largest such fraction, when considering specialties with at least 1000 proviers in 2016? Note that some specialties have a fraction of 1 due to specialty name changes between 2016 and 2017; disregard these specialties in calculating your answer."
   ]
  },
  {
   "cell_type": "code",
   "execution_count": 152,
   "metadata": {},
   "outputs": [
    {
     "data": {
      "text/plain": [
       "0.01828027238234038"
      ]
     },
     "execution_count": 152,
     "metadata": {},
     "output_type": "execute_result"
    }
   ],
   "source": [
    "df16_sp_atleast_th = df16.groupby(['specialty_description']).filter(lambda x: len(x) >= 1000)\n",
    "total_providers = len(df16_sp_atleast_th['npi'])\n",
    "\n",
    "max_fraction = 0\n",
    "for specialty in pd.unique(df16_sp_atleast_th['specialty_description']):\n",
    "    providers_16 = df16[df16['specialty_description'] == specialty]['npi']\n",
    "    providers_17 = df17[df17['specialty_description'] == specialty]['npi']\n",
    "    total_left = len(np.setdiff1d(providers_16, providers_17))\n",
    "    fraction = total_left / total_providers\n",
    "    if fraction > max_fraction:\n",
    "        max_fraction = fraction\n",
    "max_fraction\n",
    "    "
   ]
  },
  {
   "cell_type": "code",
   "execution_count": null,
   "metadata": {},
   "outputs": [],
   "source": []
  }
 ],
 "metadata": {
  "kernelspec": {
   "display_name": "Python 3",
   "language": "python",
   "name": "python3"
  },
  "language_info": {
   "codemirror_mode": {
    "name": "ipython",
    "version": 3
   },
   "file_extension": ".py",
   "mimetype": "text/x-python",
   "name": "python",
   "nbconvert_exporter": "python",
   "pygments_lexer": "ipython3",
   "version": "3.7.4"
  }
 },
 "nbformat": 4,
 "nbformat_minor": 4
}
