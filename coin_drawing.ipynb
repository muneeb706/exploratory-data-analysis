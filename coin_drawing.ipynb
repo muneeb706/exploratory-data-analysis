{
 "cells": [
  {
   "cell_type": "markdown",
   "metadata": {},
   "source": [
    "**Problem Description**:\n",
    "Coins with values 1 through N (inclusive) are placed into a bag. All the coins from the bag are iteratively drawn (without replacement) at random. For the first coin, you are paid the value of the coin. For subsequent coins, you are paid the absolute difference between the drawn coin and the previously drawn coin. For example, if you drew 5,3,2,4,1, your payments would be 5,2,1,2,3 for a total payment of 13."
   ]
  },
  {
   "cell_type": "code",
   "execution_count": 32,
   "metadata": {},
   "outputs": [],
   "source": [
    "import numpy as np\n",
    "import pandas as pd\n",
    "\n",
    "bag = []\n",
    "possible_sums = []\n",
    "\n",
    "def init_bag(n):\n",
    "    for i in range(1,n+1):\n",
    "        bag.append(float(i))\n",
    "        \n",
    "def permutation(start, end):\n",
    "    if end==start:\n",
    "        count = 0\n",
    "        sum = 0\n",
    "        prev_val = 0\n",
    "        for coin in bag:\n",
    "            sum = sum + abs(coin - prev_val)\n",
    "            prev_val = coin\n",
    "        possible_sums.append(sum)\n",
    "        return\n",
    "    for i in range(start, end+1):\n",
    "        #swapping\n",
    "        bag[i],bag[start] = bag[start],bag[i]\n",
    "        #calling permutation function\n",
    "        #by keeping the element at the index start fixed\n",
    "        permutation(start+1, end)\n",
    "        #restoring the array\n",
    "        bag[i],bag[start] = bag[start],bag[i]\n",
    "\n",
    "def start_drawing(bag_size):\n",
    "    bag.clear()\n",
    "    possible_sums.clear()\n",
    "    init_bag(bag_size)\n",
    "    permutation(0,len(bag)-1)"
   ]
  },
  {
   "cell_type": "markdown",
   "metadata": {},
   "source": [
    "**Question**:\n",
    "What is the mean of your total payment for N=10?"
   ]
  },
  {
   "cell_type": "code",
   "execution_count": 42,
   "metadata": {},
   "outputs": [
    {
     "data": {
      "text/plain": [
       "38.5"
      ]
     },
     "execution_count": 42,
     "metadata": {},
     "output_type": "execute_result"
    }
   ],
   "source": [
    "start_drawing(10)\n",
    "np.mean(possible_sums, dtype=np.float32)"
   ]
  },
  {
   "cell_type": "markdown",
   "metadata": {},
   "source": [
    "**Question**:\n",
    "What is the standard deviation of your total payment for N=10?"
   ]
  },
  {
   "cell_type": "code",
   "execution_count": 43,
   "metadata": {},
   "outputs": [
    {
     "data": {
      "text/plain": [
       "6.3652706"
      ]
     },
     "execution_count": 43,
     "metadata": {},
     "output_type": "execute_result"
    }
   ],
   "source": [
    "start_drawing(10)\n",
    "np.std(possible_sums, dtype=np.float32)"
   ]
  },
  {
   "cell_type": "markdown",
   "metadata": {},
   "source": [
    "**Question**:\n",
    "What is the probability that your total payment is greater than or equal to 45 for N=10?"
   ]
  },
  {
   "cell_type": "code",
   "execution_count": null,
   "metadata": {},
   "outputs": [],
   "source": [
    "start_drawing(10)\n",
    "np_possible_sums = np.array(possible_sums)\n",
    "total_sum_grtr_45 = len(np_possible_sums[np.greater_equal(np_possible_sums, 45)])\n",
    "prob = total_sum_grtr_45 / len(np_possible_sums)\n",
    "prob"
   ]
  },
  {
   "cell_type": "code",
   "execution_count": null,
   "metadata": {},
   "outputs": [],
   "source": []
  }
 ],
 "metadata": {
  "kernelspec": {
   "display_name": "Python 3",
   "language": "python",
   "name": "python3"
  },
  "language_info": {
   "codemirror_mode": {
    "name": "ipython",
    "version": 3
   },
   "file_extension": ".py",
   "mimetype": "text/x-python",
   "name": "python",
   "nbconvert_exporter": "python",
   "pygments_lexer": "ipython3",
   "version": "3.7.4"
  }
 },
 "nbformat": 4,
 "nbformat_minor": 4
}
